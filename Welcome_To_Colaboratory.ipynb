username = ""
password = ""

l = []

def login():
    filename = 'login.json'
    with open(filename, "r+") as file:
        users = json.load(file)

    if users is None:
        print(f"Error: File '{filename}' not found.")
        return
    
    username = input("Enter your username: ")
    password = input("Enter your password: ")

    if username in users and users[username] == password:
        menu(username)
    else:
        print("Login failed.")
        check = input("Do you want to try again?(Y/N): ")
        if check.lower() == 'y':
            login()
        else:
            return
            
def create(name):
    print("\nEnter Contact Details\n")
    for i in range(int(input("Number of contact you want to add: "))):
        print(f"\nPerson {i+1} details: \n")
        first_name = input("Enter First Name : ")
        last_name = input("Enter Last Name : ")
        phone_number = int(input("Enter Phone Number : "))
        with open('content.json', "r+") as fl:
            users=json.load(fl)
            details=users[name]
            details.append([first_name+' '+last_name, phone_number])
        with open('content.json', "w") as fl:
            fl.seek(0)
            json.dump(users, fl, indent='')
            
def add_new_login():
    name = input("Enter a new username: ")
    with open('login.json', "r+") as fl:
        users = json.load(fl)
        if name in users:
            print("Username already exists. Please create a new username.")
            add_new_login()
        else:
            ps = input("Enter the password: ")
            users[name] = ps
        with open('login.json', "w") as fl:
            fl.seek(0)
            json.dump(users, fl, indent='')
        add_new_content(name)
        print("Congratulations! Your account has been successfully created.")

def search(name):

    with open('content.json', "r+") as fl:
        details=json.load(fl)
        detail=details[name]
        search = input("Enter a number or name to search: ")
        for i in detail:
            if search == i[0]:
                print("Name\t\tPhone-Number")
                print(f"{i[0]:<10}{i[1]:>10}")
                break
            elif (int(search) if search.isdigit() else search) == i[1]:
                print(f"{i[0]:<10}\t{i[1]:>10}")
                break
            else:
                print("No matching contacts found.")
                check = input("Do you want to try again?(Y/N): ")
                if check.lower() == 'y':
                    search(name)
                else:
                    break

def update(name):

    with open('content.json', "r+") as file:
        details=json.load(file)
        detail=details[name]
        old_name = input("Enter the existing name where you want to make change: ")
        check = input("Do you want to change the number or name?(Number/Name): ")
        if check.lower() == "name":
            new_name=input("Enter New Name :")
            for i in detail:
                if old_name==i[0]:
                    i[0]=new_name
                    with open('content.json', "w") as file:
                        file.seek(0)
                        json.dump(details, file, indent='')

        elif check.lower() == "number":
            new_number=int(input("Enter New Number :"))
            for i in detail:
                if old_name==i[0]:
                    i[1]=new_number
                    with open('content.json', "w") as file:
                        file.seek(0)
                        json.dump(details, file, indent='')

        else:
            print("Please enter a valid input!")
            update(name)

def add_new_content(name): 
    with open('content.json', "r+") as file:
        details=json.load(file)
        details[name]= []
    with open('content.json', "w") as file:
        json.dump(details, file, indent='')

def delete(name):

    with open('content.json', "r+") as file:
        details=json.load(file)
        detail=details[name]
        _input_ = input("Enter a number or name to search and delete: ")
        for i in detail:
            if (_input_ == i[0]):
                print(i)
                del detail[detail.index(i)]
                with open('content.json', "w") as file:
                    file.seek(0)
                    json.dump(details, file, indent='')
                break
            elif int(_input_) == i[1]:
                print(i)
                del detail[detail.index(i)]
                with open('content.json', "w") as file:
                    file.seek(0)
                    json.dump(details, file, indent='')
                break

def view(name):
    with open('content.json', "r+") as file:
                details = json.load(file)
                if len(details[name]) == 0:
                    print("There is no contact in the phonebook.")
                else:
                    print("\n++Name\t\t\t\tPhone-Number")
                    for _,items in enumerate(details[name]):
                        print(f"{items[0]:<20}{items[1]:>20}")

def menu(name):
    print(f"\nHello, {name}")
    print("***WELCOME TO YOUR PHONEBOOK DIRECTORY***\n")
    while True:
        print("\nMAIN MENU\n")
        print("1. Show all existing Contacts")
        print("2. Add a new Contact")
        print("3. Search the existing Contact")
        print("4. Update Contact List")
        print("5. Delete Contact List")
        print("6. Exit")
        choice = int(input("Enter your choice: "))
        if choice == 1:
            view(name)
        elif choice == 2:
            create(name)
        elif choice == 3:
            search(name)
        elif choice == 4:
            update(name)
        elif choice == 5:
            delete(name)
        elif choice == 6:
            return
        else:
            menu(name)

print("\n***WELCOME TO PHONEBOOK DIRECTORY***\n")
account_check = input("Do you already have an account?(Y/N): ")
if account_check.lower() == 'y':
    login()
else:
    add_new_login()
    login()
